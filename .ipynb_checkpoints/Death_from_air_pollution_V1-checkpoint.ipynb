{
 "cells": [
  {
   "cell_type": "markdown",
   "id": "91fc6355",
   "metadata": {
    "slideshow": {
     "slide_type": "slide"
    }
   },
   "source": [
    "#### ETAPE 1 : CHOIX DU SECTEUR\n",
    "\n",
    "#### ETAPE 2 : TROUVER UNE PROBLEMATIQUE - IDENTIFIER UNE TARGET\n",
    "\n",
    "#### ETAPE 3 : SELECTIONNER UNE OU DES BASES DE DONNEES (SQL, CSV, API, SCRAPING, ETC...).\n",
    "\n",
    "#### ETAPE 4 : REALISER L'ANALYSE DE DONNEES\n",
    "\n",
    "#### ETAPE 5 : REALISER  UN MODEL DE MACHINE LEARNING (REGRESSION LINEAIRE)\n",
    "\n",
    "#### ETAPE 6 : FAIRE UNE DEMO API ( PREDICATION - FAST API)"
   ]
  },
  {
   "cell_type": "markdown",
   "id": "6047fabf",
   "metadata": {
    "slideshow": {
     "slide_type": "slide"
    }
   },
   "source": [
    "1 - CHOIX DU SECTEUR :\n",
    "    \n",
    "    L'ENVIRONNEMENT ET LES CONSEQUENCES DE LA POLLUTION DE L'AIR SUR LA POPULATION MONDIALE"
   ]
  },
  {
   "cell_type": "markdown",
   "id": "ee0b70ca",
   "metadata": {
    "slideshow": {
     "slide_type": "slide"
    }
   },
   "source": [
    "2 - PROBLEMATIQUE ET IDENTIFICATION DE LA TARGET :\n",
    "    \n",
    "    LA POLLUTION DE L'AIR A T IL UNE INFLUENCE FORTE SUR LE TAUX DE MORTALITE SUR LA POPULATION MONDIALE ?\n",
    "    \n",
    "    TARGET : POLLUTION LIE A L'OZONE\n",
    "    \n",
    "   DEF : La pollution de l'air est un ensemble de gaz et de particules en suspension présents dans l'air (intérieur ou extérieur) dont les niveaux de concentration varient en fonction des émissions et des conditions météorologiques, et qui sont nuisibles pour la santé et l'environnement"
   ]
  },
  {
   "cell_type": "markdown",
   "id": "83942276",
   "metadata": {
    "slideshow": {
     "slide_type": "notes"
    }
   },
   "source": [
    "Rappels : \n",
    "-   : 10 minutes max. Répartis de cette manière : \n",
    "5 minutes présentation + 3 minutes de questions / réponses + 2 minutes demo API.\n",
    "-   : Pause de 5 minutes entre 2 interventions. \n",
    "-   : Pause à 15h30 jeudi  et à 10h30 vendredi.\n",
    "\n",
    "  Mindset \n",
    "C'est l'explication de la \"démarche\" qui est intéressante  , plutôt que de montrer des lignes de code  .\n",
    "L'explication de la \"démarche\" s'appuie notamment sur :\n",
    "-   : L'interprétation des graphiques. \n",
    "-   : L'explication du choix de la target, des features, et du model .\n",
    "-   : L'explication de la méthode d'entrainement du model (exemple 1 : hold out methode. Exemple 2 : itération_1 --> Base line avec une feature, le score est à 0,5 . itération_2 -->  model avec 2 features le score est à 0,6. Etc...)\n",
    "-   : L'explication du nettoyage des données. (exemple : j'ai remplacé les valeurs manquantes par la médiane parceque ...)\n",
    "-   : L'explication de la metrique de performance (du score) : (https://scikit-learn.org/stable/modules/model_evaluation.html) \n",
    "-   : L'explication du choix de l'architecture du code. "
   ]
  },
  {
   "cell_type": "markdown",
   "id": "3fab4a9f",
   "metadata": {
    "slideshow": {
     "slide_type": "slide"
    }
   },
   "source": [
    "I - CHOIX DU DATASET VIA KAGGLE : ETUDE SUR LE TAUX DE MORTALITE CAUSE PAR LA POLLUTION DE L'AIR"
   ]
  },
  {
   "cell_type": "markdown",
   "id": "ea15398f",
   "metadata": {
    "slideshow": {
     "slide_type": "slide"
    }
   },
   "source": [
    "II - IMPORT DE MODULES NECESSAIRE AU TRAVAIL A REALISER"
   ]
  },
  {
   "cell_type": "code",
   "execution_count": 1,
   "id": "b48f94d5",
   "metadata": {
    "slideshow": {
     "slide_type": "subslide"
    }
   },
   "outputs": [],
   "source": [
    "import numpy as np\n",
    "import pandas as pd\n",
    "import requests\n",
    "import matplotlib.pyplot as plt\n",
    "import seaborn as sns\n",
    "import warnings\n",
    "warnings.filterwarnings('ignore')\n",
    "import matplotlib\n",
    "import matplotlib.pyplot as plt\n",
    "from matplotlib.patches import ConnectionPatch\n",
    "from matplotlib.patches import Circle\n",
    "import matplotlib.pyplot as plt\n",
    "import plotly.figure_factory as ff\n",
    "import plotly.graph_objects as go\n",
    "import plotly.express as px\n",
    "import seaborn as sns\n",
    "import warnings\n",
    "warnings.filterwarnings('ignore')\n",
    "from sklearn.metrics import accuracy_score\n",
    "from sklearn.model_selection import cross_validate, cross_val_score, train_test_split, GridSearchCV\n"
   ]
  },
  {
   "cell_type": "code",
   "execution_count": 2,
   "id": "b6997354",
   "metadata": {
    "slideshow": {
     "slide_type": "subslide"
    }
   },
   "outputs": [],
   "source": [
    "df = pd.read_csv(\"death-rates-from-air-pollution.csv\")\n"
   ]
  },
  {
   "cell_type": "markdown",
   "id": "b409cc26",
   "metadata": {
    "slideshow": {
     "slide_type": "slide"
    }
   },
   "source": [
    "III - ANALYSE DU DATASET"
   ]
  },
  {
   "cell_type": "code",
   "execution_count": 3,
   "id": "10d699bd",
   "metadata": {
    "slideshow": {
     "slide_type": "subslide"
    }
   },
   "outputs": [
    {
     "data": {
      "text/html": [
       "<div>\n",
       "<style scoped>\n",
       "    .dataframe tbody tr th:only-of-type {\n",
       "        vertical-align: middle;\n",
       "    }\n",
       "\n",
       "    .dataframe tbody tr th {\n",
       "        vertical-align: top;\n",
       "    }\n",
       "\n",
       "    .dataframe thead th {\n",
       "        text-align: right;\n",
       "    }\n",
       "</style>\n",
       "<table border=\"1\" class=\"dataframe\">\n",
       "  <thead>\n",
       "    <tr style=\"text-align: right;\">\n",
       "      <th></th>\n",
       "      <th>Entity</th>\n",
       "      <th>Code</th>\n",
       "      <th>Year</th>\n",
       "      <th>Air pollution (total) (deaths per 100,000)</th>\n",
       "      <th>Indoor air pollution (deaths per 100,000)</th>\n",
       "      <th>Outdoor particulate matter (deaths per 100,000)</th>\n",
       "      <th>Outdoor ozone pollution (deaths per 100,000)</th>\n",
       "    </tr>\n",
       "  </thead>\n",
       "  <tbody>\n",
       "    <tr>\n",
       "      <th>0</th>\n",
       "      <td>Afghanistan</td>\n",
       "      <td>AFG</td>\n",
       "      <td>1990</td>\n",
       "      <td>299.477309</td>\n",
       "      <td>250.362910</td>\n",
       "      <td>46.446589</td>\n",
       "      <td>5.616442</td>\n",
       "    </tr>\n",
       "    <tr>\n",
       "      <th>1</th>\n",
       "      <td>Afghanistan</td>\n",
       "      <td>AFG</td>\n",
       "      <td>1991</td>\n",
       "      <td>291.277967</td>\n",
       "      <td>242.575125</td>\n",
       "      <td>46.033841</td>\n",
       "      <td>5.603960</td>\n",
       "    </tr>\n",
       "    <tr>\n",
       "      <th>2</th>\n",
       "      <td>Afghanistan</td>\n",
       "      <td>AFG</td>\n",
       "      <td>1992</td>\n",
       "      <td>278.963056</td>\n",
       "      <td>232.043878</td>\n",
       "      <td>44.243766</td>\n",
       "      <td>5.611822</td>\n",
       "    </tr>\n",
       "    <tr>\n",
       "      <th>3</th>\n",
       "      <td>Afghanistan</td>\n",
       "      <td>AFG</td>\n",
       "      <td>1993</td>\n",
       "      <td>278.790815</td>\n",
       "      <td>231.648134</td>\n",
       "      <td>44.440148</td>\n",
       "      <td>5.655266</td>\n",
       "    </tr>\n",
       "    <tr>\n",
       "      <th>4</th>\n",
       "      <td>Afghanistan</td>\n",
       "      <td>AFG</td>\n",
       "      <td>1994</td>\n",
       "      <td>287.162923</td>\n",
       "      <td>238.837177</td>\n",
       "      <td>45.594328</td>\n",
       "      <td>5.718922</td>\n",
       "    </tr>\n",
       "  </tbody>\n",
       "</table>\n",
       "</div>"
      ],
      "text/plain": [
       "        Entity Code  Year  Air pollution (total) (deaths per 100,000)  \\\n",
       "0  Afghanistan  AFG  1990                                  299.477309   \n",
       "1  Afghanistan  AFG  1991                                  291.277967   \n",
       "2  Afghanistan  AFG  1992                                  278.963056   \n",
       "3  Afghanistan  AFG  1993                                  278.790815   \n",
       "4  Afghanistan  AFG  1994                                  287.162923   \n",
       "\n",
       "   Indoor air pollution (deaths per 100,000)  \\\n",
       "0                                 250.362910   \n",
       "1                                 242.575125   \n",
       "2                                 232.043878   \n",
       "3                                 231.648134   \n",
       "4                                 238.837177   \n",
       "\n",
       "   Outdoor particulate matter (deaths per 100,000)  \\\n",
       "0                                        46.446589   \n",
       "1                                        46.033841   \n",
       "2                                        44.243766   \n",
       "3                                        44.440148   \n",
       "4                                        45.594328   \n",
       "\n",
       "   Outdoor ozone pollution (deaths per 100,000)  \n",
       "0                                      5.616442  \n",
       "1                                      5.603960  \n",
       "2                                      5.611822  \n",
       "3                                      5.655266  \n",
       "4                                      5.718922  "
      ]
     },
     "execution_count": 3,
     "metadata": {},
     "output_type": "execute_result"
    }
   ],
   "source": [
    "df.head() # Visualisation globale du Dataset"
   ]
  },
  {
   "cell_type": "code",
   "execution_count": 4,
   "id": "36b1e10f",
   "metadata": {
    "slideshow": {
     "slide_type": "subslide"
    }
   },
   "outputs": [
    {
     "data": {
      "text/plain": [
       "Entity                                             False\n",
       "Code                                                True\n",
       "Year                                               False\n",
       "Air pollution (total) (deaths per 100,000)         False\n",
       "Indoor air pollution (deaths per 100,000)          False\n",
       "Outdoor particulate matter (deaths per 100,000)    False\n",
       "Outdoor ozone pollution (deaths per 100,000)       False\n",
       "dtype: bool"
      ]
     },
     "execution_count": 4,
     "metadata": {},
     "output_type": "execute_result"
    }
   ],
   "source": [
    "df.isna().any()  # isna() : Détection de valeurs manquantes"
   ]
  },
  {
   "cell_type": "code",
   "execution_count": 5,
   "id": "351df86b",
   "metadata": {
    "slideshow": {
     "slide_type": "subslide"
    }
   },
   "outputs": [
    {
     "data": {
      "text/plain": [
       "Entity                                               0\n",
       "Code                                               980\n",
       "Year                                                 0\n",
       "Air pollution (total) (deaths per 100,000)           0\n",
       "Indoor air pollution (deaths per 100,000)            0\n",
       "Outdoor particulate matter (deaths per 100,000)      0\n",
       "Outdoor ozone pollution (deaths per 100,000)         0\n",
       "dtype: int64"
      ]
     },
     "execution_count": 5,
     "metadata": {},
     "output_type": "execute_result"
    }
   ],
   "source": [
    "df.isna().sum() # 980 valeurs manquantes sur la colonne : 'Code'"
   ]
  },
  {
   "cell_type": "code",
   "execution_count": 6,
   "id": "5b994cfd",
   "metadata": {
    "slideshow": {
     "slide_type": "subslide"
    }
   },
   "outputs": [
    {
     "data": {
      "text/plain": [
       "array([1990, 1991, 1992, 1993, 1994, 1995, 1996, 1997, 1998, 1999, 2000,\n",
       "       2001, 2002, 2003, 2004, 2005, 2006, 2007, 2008, 2009, 2010, 2011,\n",
       "       2012, 2013, 2014, 2015, 2016, 2017])"
      ]
     },
     "execution_count": 6,
     "metadata": {},
     "output_type": "execute_result"
    }
   ],
   "source": [
    "df['Year'].unique() # Verification des données unique sur la colonne 'Year'"
   ]
  },
  {
   "cell_type": "code",
   "execution_count": 7,
   "id": "7a192bbd",
   "metadata": {
    "slideshow": {
     "slide_type": "subslide"
    }
   },
   "outputs": [
    {
     "data": {
      "text/plain": [
       "231"
      ]
     },
     "execution_count": 7,
     "metadata": {},
     "output_type": "execute_result"
    }
   ],
   "source": [
    "df['Entity'].nunique() # Vérification du nombre de 'pays' sur la DATASET"
   ]
  },
  {
   "cell_type": "code",
   "execution_count": 8,
   "id": "ce7dc181",
   "metadata": {
    "slideshow": {
     "slide_type": "subslide"
    }
   },
   "outputs": [
    {
     "data": {
      "text/plain": [
       "196"
      ]
     },
     "execution_count": 8,
     "metadata": {},
     "output_type": "execute_result"
    }
   ],
   "source": [
    "df['Code'].nunique() # Vérification du nombre de 'code' sur la DATASET"
   ]
  },
  {
   "cell_type": "code",
   "execution_count": 9,
   "id": "b7f6adcb",
   "metadata": {
    "slideshow": {
     "slide_type": "subslide"
    }
   },
   "outputs": [
    {
     "name": "stdout",
     "output_type": "stream",
     "text": [
      "<class 'pandas.core.frame.DataFrame'>\n",
      "RangeIndex: 6468 entries, 0 to 6467\n",
      "Data columns (total 7 columns):\n",
      " #   Column                                           Non-Null Count  Dtype  \n",
      "---  ------                                           --------------  -----  \n",
      " 0   Entity                                           6468 non-null   object \n",
      " 1   Code                                             5488 non-null   object \n",
      " 2   Year                                             6468 non-null   int64  \n",
      " 3   Air pollution (total) (deaths per 100,000)       6468 non-null   float64\n",
      " 4   Indoor air pollution (deaths per 100,000)        6468 non-null   float64\n",
      " 5   Outdoor particulate matter (deaths per 100,000)  6468 non-null   float64\n",
      " 6   Outdoor ozone pollution (deaths per 100,000)     6468 non-null   float64\n",
      "dtypes: float64(4), int64(1), object(2)\n",
      "memory usage: 353.8+ KB\n"
     ]
    }
   ],
   "source": [
    "df.info()"
   ]
  },
  {
   "cell_type": "code",
   "execution_count": 66,
   "id": "51f47aad",
   "metadata": {
    "scrolled": true,
    "slideshow": {
     "slide_type": "subslide"
    }
   },
   "outputs": [
    {
     "data": {
      "text/html": [
       "<div>\n",
       "<style scoped>\n",
       "    .dataframe tbody tr th:only-of-type {\n",
       "        vertical-align: middle;\n",
       "    }\n",
       "\n",
       "    .dataframe tbody tr th {\n",
       "        vertical-align: top;\n",
       "    }\n",
       "\n",
       "    .dataframe thead th {\n",
       "        text-align: right;\n",
       "    }\n",
       "</style>\n",
       "<table border=\"1\" class=\"dataframe\">\n",
       "  <thead>\n",
       "    <tr style=\"text-align: right;\">\n",
       "      <th></th>\n",
       "      <th>Year</th>\n",
       "      <th>total_air</th>\n",
       "      <th>indoor_pollution</th>\n",
       "      <th>outdoor_particule</th>\n",
       "      <th>outdoor_ozone</th>\n",
       "    </tr>\n",
       "  </thead>\n",
       "  <tbody>\n",
       "    <tr>\n",
       "      <th>count</th>\n",
       "      <td>6468.000000</td>\n",
       "      <td>6468.000000</td>\n",
       "      <td>6468.000000</td>\n",
       "      <td>6468.000000</td>\n",
       "      <td>6468.000000</td>\n",
       "    </tr>\n",
       "    <tr>\n",
       "      <th>mean</th>\n",
       "      <td>2003.500000</td>\n",
       "      <td>87.804083</td>\n",
       "      <td>50.481504</td>\n",
       "      <td>35.114982</td>\n",
       "      <td>3.370793</td>\n",
       "    </tr>\n",
       "    <tr>\n",
       "      <th>std</th>\n",
       "      <td>8.078372</td>\n",
       "      <td>57.845436</td>\n",
       "      <td>58.722565</td>\n",
       "      <td>18.207369</td>\n",
       "      <td>4.325445</td>\n",
       "    </tr>\n",
       "    <tr>\n",
       "      <th>min</th>\n",
       "      <td>1990.000000</td>\n",
       "      <td>8.401696</td>\n",
       "      <td>0.003859</td>\n",
       "      <td>7.542899</td>\n",
       "      <td>0.000000</td>\n",
       "    </tr>\n",
       "    <tr>\n",
       "      <th>25%</th>\n",
       "      <td>1996.750000</td>\n",
       "      <td>41.016114</td>\n",
       "      <td>2.002779</td>\n",
       "      <td>21.955108</td>\n",
       "      <td>1.302905</td>\n",
       "    </tr>\n",
       "    <tr>\n",
       "      <th>50%</th>\n",
       "      <td>2003.500000</td>\n",
       "      <td>72.653557</td>\n",
       "      <td>23.737851</td>\n",
       "      <td>30.977196</td>\n",
       "      <td>2.338684</td>\n",
       "    </tr>\n",
       "    <tr>\n",
       "      <th>75%</th>\n",
       "      <td>2010.250000</td>\n",
       "      <td>127.607177</td>\n",
       "      <td>90.138777</td>\n",
       "      <td>44.604181</td>\n",
       "      <td>3.515409</td>\n",
       "    </tr>\n",
       "    <tr>\n",
       "      <th>max</th>\n",
       "      <td>2017.000000</td>\n",
       "      <td>318.463253</td>\n",
       "      <td>293.509187</td>\n",
       "      <td>132.815726</td>\n",
       "      <td>37.356034</td>\n",
       "    </tr>\n",
       "  </tbody>\n",
       "</table>\n",
       "</div>"
      ],
      "text/plain": [
       "              Year    total_air  indoor_pollution  outdoor_particule  \\\n",
       "count  6468.000000  6468.000000       6468.000000        6468.000000   \n",
       "mean   2003.500000    87.804083         50.481504          35.114982   \n",
       "std       8.078372    57.845436         58.722565          18.207369   \n",
       "min    1990.000000     8.401696          0.003859           7.542899   \n",
       "25%    1996.750000    41.016114          2.002779          21.955108   \n",
       "50%    2003.500000    72.653557         23.737851          30.977196   \n",
       "75%    2010.250000   127.607177         90.138777          44.604181   \n",
       "max    2017.000000   318.463253        293.509187         132.815726   \n",
       "\n",
       "       outdoor_ozone  \n",
       "count    6468.000000  \n",
       "mean        3.370793  \n",
       "std         4.325445  \n",
       "min         0.000000  \n",
       "25%         1.302905  \n",
       "50%         2.338684  \n",
       "75%         3.515409  \n",
       "max        37.356034  "
      ]
     },
     "execution_count": 66,
     "metadata": {},
     "output_type": "execute_result"
    }
   ],
   "source": [
    "df.describe()"
   ]
  },
  {
   "cell_type": "markdown",
   "id": "795aacdf",
   "metadata": {
    "slideshow": {
     "slide_type": "slide"
    }
   },
   "source": [
    "CONCLUSION"
   ]
  },
  {
   "cell_type": "markdown",
   "id": "cf887556",
   "metadata": {
    "slideshow": {
     "slide_type": "subslide"
    }
   },
   "source": [
    "LE DATASET EST COMPOSE DE 7 COLONNES REPRESENTANT :\n",
    "\n",
    "    - LE NOM DU PAYS OU ZONE ( 231 PAYS )\n",
    "    \n",
    "    - LE CODE PAYS\n",
    "    \n",
    "    - L'ANNEE  ( DE 1990 à 2017 )\n",
    "    \n",
    "    - LE NOMBRE DE MORTS TOTAL CAUSES PAR LA POLLUTION DE L'AIR (MORTS/100 000)\n",
    "    \n",
    "    - LE NOMBRE DE MORTS CAUSES PAR LA POLLUTION DE L'AIR INTERIEUR (MORTS/100 000)\n",
    "    \n",
    "    - LE NOMBRE DE MORTS CAUSES PAR LA POLLUTION DE L'AIR DES PARTICULES EN SUSPENSION (MORTS/100 000)\n",
    "    \n",
    "    - LE NOMBRE DE MORTS CAUSES PAR LA POLLUTION ATMOSPHERIQUE A L'OZONE (MORTS/100 000)\n",
    "\n",
    "\n",
    "\n",
    "\n",
    "    \n",
    "1- POLLUTION DE L'AIR DES PARTICULES EN SUSPENSION : \n",
    "La toxicité des particules en suspension est essentiellement due aux particules de diamètre inférieur à 10µm. Elles peuvent être émises directement dans l'air par des activités anthropiques (industrie, résidentiel, agriculture, transports) et par des sources naturelles (feux de forêt, éruptions volcaniques, etc.).\n",
    "\n",
    "2- POLLUTION ATMOSPHERIQUE A L'OZONE :\n",
    "L’ozone est un polluant atmosphérique bien connu pour ses effets délétères sur la santé humaine et sur la végétation. Il se forme dans les basses couches de l’atmosphère en période estivale, sous l’effet du rayonnement solaire et lorsque les températures sont élevées\n",
    "\n",
    "3- POLLUTION DE L'AIR INTERIEUR :\n",
    "Les sources de pollution dans les logements sont nombreuses : tabagisme, moisissures, matériaux de construction, meubles, acariens, produits d'entretien, peintures..."
   ]
  },
  {
   "cell_type": "markdown",
   "id": "51e94c61",
   "metadata": {
    "slideshow": {
     "slide_type": "slide"
    }
   },
   "source": [
    " IV - NETTOYAGE DU DATASET"
   ]
  },
  {
   "cell_type": "code",
   "execution_count": 11,
   "id": "6da69d77",
   "metadata": {
    "slideshow": {
     "slide_type": "subslide"
    }
   },
   "outputs": [],
   "source": [
    "df.rename(columns = {'Air pollution (total) (deaths per 100,000)' : 'total_air', 'Entity' : 'country','Indoor air pollution (deaths per 100,000)' : 'indoor_pollution','Outdoor particulate matter (deaths per 100,000)': 'outdoor_particule', 'Outdoor ozone pollution (deaths per 100,000)' : 'outdoor_ozone'}, inplace = True)\n",
    "# Renommage des colonnes pour l'entrainement du modèle"
   ]
  },
  {
   "cell_type": "code",
   "execution_count": 12,
   "id": "ce0c633f",
   "metadata": {},
   "outputs": [
    {
     "data": {
      "text/html": [
       "<div>\n",
       "<style scoped>\n",
       "    .dataframe tbody tr th:only-of-type {\n",
       "        vertical-align: middle;\n",
       "    }\n",
       "\n",
       "    .dataframe tbody tr th {\n",
       "        vertical-align: top;\n",
       "    }\n",
       "\n",
       "    .dataframe thead th {\n",
       "        text-align: right;\n",
       "    }\n",
       "</style>\n",
       "<table border=\"1\" class=\"dataframe\">\n",
       "  <thead>\n",
       "    <tr style=\"text-align: right;\">\n",
       "      <th></th>\n",
       "      <th>country</th>\n",
       "      <th>Code</th>\n",
       "      <th>Year</th>\n",
       "      <th>total_air</th>\n",
       "      <th>indoor_pollution</th>\n",
       "      <th>outdoor_particule</th>\n",
       "      <th>outdoor_ozone</th>\n",
       "    </tr>\n",
       "  </thead>\n",
       "  <tbody>\n",
       "    <tr>\n",
       "      <th>0</th>\n",
       "      <td>Afghanistan</td>\n",
       "      <td>AFG</td>\n",
       "      <td>1990</td>\n",
       "      <td>299.477309</td>\n",
       "      <td>250.362910</td>\n",
       "      <td>46.446589</td>\n",
       "      <td>5.616442</td>\n",
       "    </tr>\n",
       "    <tr>\n",
       "      <th>1</th>\n",
       "      <td>Afghanistan</td>\n",
       "      <td>AFG</td>\n",
       "      <td>1991</td>\n",
       "      <td>291.277967</td>\n",
       "      <td>242.575125</td>\n",
       "      <td>46.033841</td>\n",
       "      <td>5.603960</td>\n",
       "    </tr>\n",
       "    <tr>\n",
       "      <th>2</th>\n",
       "      <td>Afghanistan</td>\n",
       "      <td>AFG</td>\n",
       "      <td>1992</td>\n",
       "      <td>278.963056</td>\n",
       "      <td>232.043878</td>\n",
       "      <td>44.243766</td>\n",
       "      <td>5.611822</td>\n",
       "    </tr>\n",
       "    <tr>\n",
       "      <th>3</th>\n",
       "      <td>Afghanistan</td>\n",
       "      <td>AFG</td>\n",
       "      <td>1993</td>\n",
       "      <td>278.790815</td>\n",
       "      <td>231.648134</td>\n",
       "      <td>44.440148</td>\n",
       "      <td>5.655266</td>\n",
       "    </tr>\n",
       "    <tr>\n",
       "      <th>4</th>\n",
       "      <td>Afghanistan</td>\n",
       "      <td>AFG</td>\n",
       "      <td>1994</td>\n",
       "      <td>287.162923</td>\n",
       "      <td>238.837177</td>\n",
       "      <td>45.594328</td>\n",
       "      <td>5.718922</td>\n",
       "    </tr>\n",
       "    <tr>\n",
       "      <th>...</th>\n",
       "      <td>...</td>\n",
       "      <td>...</td>\n",
       "      <td>...</td>\n",
       "      <td>...</td>\n",
       "      <td>...</td>\n",
       "      <td>...</td>\n",
       "      <td>...</td>\n",
       "    </tr>\n",
       "    <tr>\n",
       "      <th>6463</th>\n",
       "      <td>Zimbabwe</td>\n",
       "      <td>ZWE</td>\n",
       "      <td>2013</td>\n",
       "      <td>143.850145</td>\n",
       "      <td>113.456097</td>\n",
       "      <td>27.589603</td>\n",
       "      <td>4.426291</td>\n",
       "    </tr>\n",
       "    <tr>\n",
       "      <th>6464</th>\n",
       "      <td>Zimbabwe</td>\n",
       "      <td>ZWE</td>\n",
       "      <td>2014</td>\n",
       "      <td>138.200536</td>\n",
       "      <td>108.703566</td>\n",
       "      <td>26.760618</td>\n",
       "      <td>4.296971</td>\n",
       "    </tr>\n",
       "    <tr>\n",
       "      <th>6465</th>\n",
       "      <td>Zimbabwe</td>\n",
       "      <td>ZWE</td>\n",
       "      <td>2015</td>\n",
       "      <td>132.752553</td>\n",
       "      <td>104.340506</td>\n",
       "      <td>25.715415</td>\n",
       "      <td>4.200907</td>\n",
       "    </tr>\n",
       "    <tr>\n",
       "      <th>6466</th>\n",
       "      <td>Zimbabwe</td>\n",
       "      <td>ZWE</td>\n",
       "      <td>2016</td>\n",
       "      <td>128.692138</td>\n",
       "      <td>100.392287</td>\n",
       "      <td>25.643570</td>\n",
       "      <td>4.117173</td>\n",
       "    </tr>\n",
       "    <tr>\n",
       "      <th>6467</th>\n",
       "      <td>Zimbabwe</td>\n",
       "      <td>ZWE</td>\n",
       "      <td>2017</td>\n",
       "      <td>125.028843</td>\n",
       "      <td>96.235996</td>\n",
       "      <td>26.166182</td>\n",
       "      <td>4.052495</td>\n",
       "    </tr>\n",
       "  </tbody>\n",
       "</table>\n",
       "<p>6468 rows × 7 columns</p>\n",
       "</div>"
      ],
      "text/plain": [
       "          country Code  Year   total_air  indoor_pollution  outdoor_particule  \\\n",
       "0     Afghanistan  AFG  1990  299.477309        250.362910          46.446589   \n",
       "1     Afghanistan  AFG  1991  291.277967        242.575125          46.033841   \n",
       "2     Afghanistan  AFG  1992  278.963056        232.043878          44.243766   \n",
       "3     Afghanistan  AFG  1993  278.790815        231.648134          44.440148   \n",
       "4     Afghanistan  AFG  1994  287.162923        238.837177          45.594328   \n",
       "...           ...  ...   ...         ...               ...                ...   \n",
       "6463     Zimbabwe  ZWE  2013  143.850145        113.456097          27.589603   \n",
       "6464     Zimbabwe  ZWE  2014  138.200536        108.703566          26.760618   \n",
       "6465     Zimbabwe  ZWE  2015  132.752553        104.340506          25.715415   \n",
       "6466     Zimbabwe  ZWE  2016  128.692138        100.392287          25.643570   \n",
       "6467     Zimbabwe  ZWE  2017  125.028843         96.235996          26.166182   \n",
       "\n",
       "      outdoor_ozone  \n",
       "0          5.616442  \n",
       "1          5.603960  \n",
       "2          5.611822  \n",
       "3          5.655266  \n",
       "4          5.718922  \n",
       "...             ...  \n",
       "6463       4.426291  \n",
       "6464       4.296971  \n",
       "6465       4.200907  \n",
       "6466       4.117173  \n",
       "6467       4.052495  \n",
       "\n",
       "[6468 rows x 7 columns]"
      ]
     },
     "execution_count": 12,
     "metadata": {},
     "output_type": "execute_result"
    }
   ],
   "source": [
    "df"
   ]
  },
  {
   "cell_type": "markdown",
   "id": "1fef1e3a",
   "metadata": {
    "slideshow": {
     "slide_type": "slide"
    }
   },
   "source": [
    "#### ENTRAINEMENENT DU MODELE : TRAIN_TEST_SPLIT"
   ]
  },
  {
   "cell_type": "code",
   "execution_count": 13,
   "id": "664acceb",
   "metadata": {
    "slideshow": {
     "slide_type": "subslide"
    }
   },
   "outputs": [],
   "source": [
    "from sklearn.model_selection import train_test_split"
   ]
  },
  {
   "cell_type": "code",
   "execution_count": 36,
   "id": "5a74c340",
   "metadata": {
    "slideshow": {
     "slide_type": "subslide"
    }
   },
   "outputs": [],
   "source": [
    "y = df['outdoor_ozone']\n",
    "X = df.drop(['outdoor_ozone','country','Code','Year'], axis = 1)"
   ]
  },
  {
   "cell_type": "code",
   "execution_count": 37,
   "id": "311e1032",
   "metadata": {
    "slideshow": {
     "slide_type": "subslide"
    }
   },
   "outputs": [],
   "source": [
    "X_train, X_test, y_train, y_test = train_test_split(X,y, test_size=0.2,random_state=42)"
   ]
  },
  {
   "cell_type": "markdown",
   "id": "44f361b7",
   "metadata": {
    "slideshow": {
     "slide_type": "slide"
    }
   },
   "source": [
    "#### CREATION DU PIPELINE : ONEHOTENCODER/MINMAXSCALER/LINEARREGRESSION"
   ]
  },
  {
   "cell_type": "code",
   "execution_count": 38,
   "id": "d5b88f01",
   "metadata": {
    "slideshow": {
     "slide_type": "subslide"
    }
   },
   "outputs": [],
   "source": [
    "from sklearn.pipeline import Pipeline\n",
    "from sklearn.preprocessing import MinMaxScaler\n",
    "from sklearn.preprocessing import OneHotEncoder\n",
    "from sklearn.impute import SimpleImputer"
   ]
  },
  {
   "cell_type": "code",
   "execution_count": 39,
   "id": "8fa6b8ac",
   "metadata": {
    "slideshow": {
     "slide_type": "subslide"
    }
   },
   "outputs": [],
   "source": [
    "from sklearn.compose import ColumnTransformer"
   ]
  },
  {
   "cell_type": "code",
   "execution_count": 40,
   "id": "df93bffa",
   "metadata": {
    "slideshow": {
     "slide_type": "subslide"
    }
   },
   "outputs": [],
   "source": [
    "from sklearn.pipeline import make_pipeline"
   ]
  },
  {
   "cell_type": "code",
   "execution_count": 41,
   "id": "9760a0ba",
   "metadata": {
    "slideshow": {
     "slide_type": "subslide"
    }
   },
   "outputs": [],
   "source": [
    "from sklearn import set_config\n",
    "set_config(display=\"diagram\")"
   ]
  },
  {
   "cell_type": "code",
   "execution_count": 42,
   "id": "92e15ec1",
   "metadata": {
    "slideshow": {
     "slide_type": "subslide"
    }
   },
   "outputs": [],
   "source": [
    "from sklearn.linear_model import LinearRegression, Ridge, Lasso"
   ]
  },
  {
   "cell_type": "code",
   "execution_count": 43,
   "id": "1ffc9ef2",
   "metadata": {
    "slideshow": {
     "slide_type": "notes"
    }
   },
   "outputs": [],
   "source": [
    "#num_pipeline = Pipeline([\n",
    "    #('imputer', SimpleImputer(strategy=\"median\")),\n",
    "    #('minmax_scaler', MinMaxScaler())\n",
    "#])\n",
    "#ohe = OneHotEncoder()"
   ]
  },
  {
   "cell_type": "code",
   "execution_count": 44,
   "id": "6661e9f5",
   "metadata": {
    "slideshow": {
     "slide_type": "subslide"
    }
   },
   "outputs": [],
   "source": [
    "pipeline_workflow = make_pipeline( LinearRegression())"
   ]
  },
  {
   "cell_type": "code",
   "execution_count": 45,
   "id": "aaa19c05",
   "metadata": {
    "slideshow": {
     "slide_type": "subslide"
    }
   },
   "outputs": [
    {
     "data": {
      "text/html": [
       "<style>#sk-container-id-4 {color: black;background-color: white;}#sk-container-id-4 pre{padding: 0;}#sk-container-id-4 div.sk-toggleable {background-color: white;}#sk-container-id-4 label.sk-toggleable__label {cursor: pointer;display: block;width: 100%;margin-bottom: 0;padding: 0.3em;box-sizing: border-box;text-align: center;}#sk-container-id-4 label.sk-toggleable__label-arrow:before {content: \"▸\";float: left;margin-right: 0.25em;color: #696969;}#sk-container-id-4 label.sk-toggleable__label-arrow:hover:before {color: black;}#sk-container-id-4 div.sk-estimator:hover label.sk-toggleable__label-arrow:before {color: black;}#sk-container-id-4 div.sk-toggleable__content {max-height: 0;max-width: 0;overflow: hidden;text-align: left;background-color: #f0f8ff;}#sk-container-id-4 div.sk-toggleable__content pre {margin: 0.2em;color: black;border-radius: 0.25em;background-color: #f0f8ff;}#sk-container-id-4 input.sk-toggleable__control:checked~div.sk-toggleable__content {max-height: 200px;max-width: 100%;overflow: auto;}#sk-container-id-4 input.sk-toggleable__control:checked~label.sk-toggleable__label-arrow:before {content: \"▾\";}#sk-container-id-4 div.sk-estimator input.sk-toggleable__control:checked~label.sk-toggleable__label {background-color: #d4ebff;}#sk-container-id-4 div.sk-label input.sk-toggleable__control:checked~label.sk-toggleable__label {background-color: #d4ebff;}#sk-container-id-4 input.sk-hidden--visually {border: 0;clip: rect(1px 1px 1px 1px);clip: rect(1px, 1px, 1px, 1px);height: 1px;margin: -1px;overflow: hidden;padding: 0;position: absolute;width: 1px;}#sk-container-id-4 div.sk-estimator {font-family: monospace;background-color: #f0f8ff;border: 1px dotted black;border-radius: 0.25em;box-sizing: border-box;margin-bottom: 0.5em;}#sk-container-id-4 div.sk-estimator:hover {background-color: #d4ebff;}#sk-container-id-4 div.sk-parallel-item::after {content: \"\";width: 100%;border-bottom: 1px solid gray;flex-grow: 1;}#sk-container-id-4 div.sk-label:hover label.sk-toggleable__label {background-color: #d4ebff;}#sk-container-id-4 div.sk-serial::before {content: \"\";position: absolute;border-left: 1px solid gray;box-sizing: border-box;top: 0;bottom: 0;left: 50%;z-index: 0;}#sk-container-id-4 div.sk-serial {display: flex;flex-direction: column;align-items: center;background-color: white;padding-right: 0.2em;padding-left: 0.2em;position: relative;}#sk-container-id-4 div.sk-item {position: relative;z-index: 1;}#sk-container-id-4 div.sk-parallel {display: flex;align-items: stretch;justify-content: center;background-color: white;position: relative;}#sk-container-id-4 div.sk-item::before, #sk-container-id-4 div.sk-parallel-item::before {content: \"\";position: absolute;border-left: 1px solid gray;box-sizing: border-box;top: 0;bottom: 0;left: 50%;z-index: -1;}#sk-container-id-4 div.sk-parallel-item {display: flex;flex-direction: column;z-index: 1;position: relative;background-color: white;}#sk-container-id-4 div.sk-parallel-item:first-child::after {align-self: flex-end;width: 50%;}#sk-container-id-4 div.sk-parallel-item:last-child::after {align-self: flex-start;width: 50%;}#sk-container-id-4 div.sk-parallel-item:only-child::after {width: 0;}#sk-container-id-4 div.sk-dashed-wrapped {border: 1px dashed gray;margin: 0 0.4em 0.5em 0.4em;box-sizing: border-box;padding-bottom: 0.4em;background-color: white;}#sk-container-id-4 div.sk-label label {font-family: monospace;font-weight: bold;display: inline-block;line-height: 1.2em;}#sk-container-id-4 div.sk-label-container {text-align: center;}#sk-container-id-4 div.sk-container {/* jupyter's `normalize.less` sets `[hidden] { display: none; }` but bootstrap.min.css set `[hidden] { display: none !important; }` so we also need the `!important` here to be able to override the default hidden behavior on the sphinx rendered scikit-learn.org. See: https://github.com/scikit-learn/scikit-learn/issues/21755 */display: inline-block !important;position: relative;}#sk-container-id-4 div.sk-text-repr-fallback {display: none;}</style><div id=\"sk-container-id-4\" class=\"sk-top-container\"><div class=\"sk-text-repr-fallback\"><pre>Pipeline(steps=[(&#x27;linearregression&#x27;, LinearRegression())])</pre><b>In a Jupyter environment, please rerun this cell to show the HTML representation or trust the notebook. <br />On GitHub, the HTML representation is unable to render, please try loading this page with nbviewer.org.</b></div><div class=\"sk-container\" hidden><div class=\"sk-item sk-dashed-wrapped\"><div class=\"sk-label-container\"><div class=\"sk-label sk-toggleable\"><input class=\"sk-toggleable__control sk-hidden--visually\" id=\"sk-estimator-id-7\" type=\"checkbox\" ><label for=\"sk-estimator-id-7\" class=\"sk-toggleable__label sk-toggleable__label-arrow\">Pipeline</label><div class=\"sk-toggleable__content\"><pre>Pipeline(steps=[(&#x27;linearregression&#x27;, LinearRegression())])</pre></div></div></div><div class=\"sk-serial\"><div class=\"sk-item\"><div class=\"sk-estimator sk-toggleable\"><input class=\"sk-toggleable__control sk-hidden--visually\" id=\"sk-estimator-id-8\" type=\"checkbox\" ><label for=\"sk-estimator-id-8\" class=\"sk-toggleable__label sk-toggleable__label-arrow\">LinearRegression</label><div class=\"sk-toggleable__content\"><pre>LinearRegression()</pre></div></div></div></div></div></div></div>"
      ],
      "text/plain": [
       "Pipeline(steps=[('linearregression', LinearRegression())])"
      ]
     },
     "execution_count": 45,
     "metadata": {},
     "output_type": "execute_result"
    }
   ],
   "source": [
    "pipeline_workflow"
   ]
  },
  {
   "cell_type": "code",
   "execution_count": 46,
   "id": "4e31f98d",
   "metadata": {
    "slideshow": {
     "slide_type": "subslide"
    }
   },
   "outputs": [
    {
     "data": {
      "text/html": [
       "<style>#sk-container-id-5 {color: black;background-color: white;}#sk-container-id-5 pre{padding: 0;}#sk-container-id-5 div.sk-toggleable {background-color: white;}#sk-container-id-5 label.sk-toggleable__label {cursor: pointer;display: block;width: 100%;margin-bottom: 0;padding: 0.3em;box-sizing: border-box;text-align: center;}#sk-container-id-5 label.sk-toggleable__label-arrow:before {content: \"▸\";float: left;margin-right: 0.25em;color: #696969;}#sk-container-id-5 label.sk-toggleable__label-arrow:hover:before {color: black;}#sk-container-id-5 div.sk-estimator:hover label.sk-toggleable__label-arrow:before {color: black;}#sk-container-id-5 div.sk-toggleable__content {max-height: 0;max-width: 0;overflow: hidden;text-align: left;background-color: #f0f8ff;}#sk-container-id-5 div.sk-toggleable__content pre {margin: 0.2em;color: black;border-radius: 0.25em;background-color: #f0f8ff;}#sk-container-id-5 input.sk-toggleable__control:checked~div.sk-toggleable__content {max-height: 200px;max-width: 100%;overflow: auto;}#sk-container-id-5 input.sk-toggleable__control:checked~label.sk-toggleable__label-arrow:before {content: \"▾\";}#sk-container-id-5 div.sk-estimator input.sk-toggleable__control:checked~label.sk-toggleable__label {background-color: #d4ebff;}#sk-container-id-5 div.sk-label input.sk-toggleable__control:checked~label.sk-toggleable__label {background-color: #d4ebff;}#sk-container-id-5 input.sk-hidden--visually {border: 0;clip: rect(1px 1px 1px 1px);clip: rect(1px, 1px, 1px, 1px);height: 1px;margin: -1px;overflow: hidden;padding: 0;position: absolute;width: 1px;}#sk-container-id-5 div.sk-estimator {font-family: monospace;background-color: #f0f8ff;border: 1px dotted black;border-radius: 0.25em;box-sizing: border-box;margin-bottom: 0.5em;}#sk-container-id-5 div.sk-estimator:hover {background-color: #d4ebff;}#sk-container-id-5 div.sk-parallel-item::after {content: \"\";width: 100%;border-bottom: 1px solid gray;flex-grow: 1;}#sk-container-id-5 div.sk-label:hover label.sk-toggleable__label {background-color: #d4ebff;}#sk-container-id-5 div.sk-serial::before {content: \"\";position: absolute;border-left: 1px solid gray;box-sizing: border-box;top: 0;bottom: 0;left: 50%;z-index: 0;}#sk-container-id-5 div.sk-serial {display: flex;flex-direction: column;align-items: center;background-color: white;padding-right: 0.2em;padding-left: 0.2em;position: relative;}#sk-container-id-5 div.sk-item {position: relative;z-index: 1;}#sk-container-id-5 div.sk-parallel {display: flex;align-items: stretch;justify-content: center;background-color: white;position: relative;}#sk-container-id-5 div.sk-item::before, #sk-container-id-5 div.sk-parallel-item::before {content: \"\";position: absolute;border-left: 1px solid gray;box-sizing: border-box;top: 0;bottom: 0;left: 50%;z-index: -1;}#sk-container-id-5 div.sk-parallel-item {display: flex;flex-direction: column;z-index: 1;position: relative;background-color: white;}#sk-container-id-5 div.sk-parallel-item:first-child::after {align-self: flex-end;width: 50%;}#sk-container-id-5 div.sk-parallel-item:last-child::after {align-self: flex-start;width: 50%;}#sk-container-id-5 div.sk-parallel-item:only-child::after {width: 0;}#sk-container-id-5 div.sk-dashed-wrapped {border: 1px dashed gray;margin: 0 0.4em 0.5em 0.4em;box-sizing: border-box;padding-bottom: 0.4em;background-color: white;}#sk-container-id-5 div.sk-label label {font-family: monospace;font-weight: bold;display: inline-block;line-height: 1.2em;}#sk-container-id-5 div.sk-label-container {text-align: center;}#sk-container-id-5 div.sk-container {/* jupyter's `normalize.less` sets `[hidden] { display: none; }` but bootstrap.min.css set `[hidden] { display: none !important; }` so we also need the `!important` here to be able to override the default hidden behavior on the sphinx rendered scikit-learn.org. See: https://github.com/scikit-learn/scikit-learn/issues/21755 */display: inline-block !important;position: relative;}#sk-container-id-5 div.sk-text-repr-fallback {display: none;}</style><div id=\"sk-container-id-5\" class=\"sk-top-container\"><div class=\"sk-text-repr-fallback\"><pre>Pipeline(steps=[(&#x27;linearregression&#x27;, LinearRegression())])</pre><b>In a Jupyter environment, please rerun this cell to show the HTML representation or trust the notebook. <br />On GitHub, the HTML representation is unable to render, please try loading this page with nbviewer.org.</b></div><div class=\"sk-container\" hidden><div class=\"sk-item sk-dashed-wrapped\"><div class=\"sk-label-container\"><div class=\"sk-label sk-toggleable\"><input class=\"sk-toggleable__control sk-hidden--visually\" id=\"sk-estimator-id-9\" type=\"checkbox\" ><label for=\"sk-estimator-id-9\" class=\"sk-toggleable__label sk-toggleable__label-arrow\">Pipeline</label><div class=\"sk-toggleable__content\"><pre>Pipeline(steps=[(&#x27;linearregression&#x27;, LinearRegression())])</pre></div></div></div><div class=\"sk-serial\"><div class=\"sk-item\"><div class=\"sk-estimator sk-toggleable\"><input class=\"sk-toggleable__control sk-hidden--visually\" id=\"sk-estimator-id-10\" type=\"checkbox\" ><label for=\"sk-estimator-id-10\" class=\"sk-toggleable__label sk-toggleable__label-arrow\">LinearRegression</label><div class=\"sk-toggleable__content\"><pre>LinearRegression()</pre></div></div></div></div></div></div></div>"
      ],
      "text/plain": [
       "Pipeline(steps=[('linearregression', LinearRegression())])"
      ]
     },
     "execution_count": 46,
     "metadata": {},
     "output_type": "execute_result"
    }
   ],
   "source": [
    "pipeline_workflow.fit(X_train,y_train)"
   ]
  },
  {
   "cell_type": "code",
   "execution_count": 47,
   "id": "8e5b1818",
   "metadata": {
    "slideshow": {
     "slide_type": "subslide"
    }
   },
   "outputs": [
    {
     "data": {
      "text/plain": [
       "0.9875704594531879"
      ]
     },
     "execution_count": 47,
     "metadata": {},
     "output_type": "execute_result"
    }
   ],
   "source": [
    "pipeline_workflow.score(X_train,y_train)"
   ]
  },
  {
   "cell_type": "code",
   "execution_count": 48,
   "id": "ee18468d",
   "metadata": {
    "slideshow": {
     "slide_type": "subslide"
    }
   },
   "outputs": [
    {
     "data": {
      "text/html": [
       "<style>#sk-container-id-6 {color: black;background-color: white;}#sk-container-id-6 pre{padding: 0;}#sk-container-id-6 div.sk-toggleable {background-color: white;}#sk-container-id-6 label.sk-toggleable__label {cursor: pointer;display: block;width: 100%;margin-bottom: 0;padding: 0.3em;box-sizing: border-box;text-align: center;}#sk-container-id-6 label.sk-toggleable__label-arrow:before {content: \"▸\";float: left;margin-right: 0.25em;color: #696969;}#sk-container-id-6 label.sk-toggleable__label-arrow:hover:before {color: black;}#sk-container-id-6 div.sk-estimator:hover label.sk-toggleable__label-arrow:before {color: black;}#sk-container-id-6 div.sk-toggleable__content {max-height: 0;max-width: 0;overflow: hidden;text-align: left;background-color: #f0f8ff;}#sk-container-id-6 div.sk-toggleable__content pre {margin: 0.2em;color: black;border-radius: 0.25em;background-color: #f0f8ff;}#sk-container-id-6 input.sk-toggleable__control:checked~div.sk-toggleable__content {max-height: 200px;max-width: 100%;overflow: auto;}#sk-container-id-6 input.sk-toggleable__control:checked~label.sk-toggleable__label-arrow:before {content: \"▾\";}#sk-container-id-6 div.sk-estimator input.sk-toggleable__control:checked~label.sk-toggleable__label {background-color: #d4ebff;}#sk-container-id-6 div.sk-label input.sk-toggleable__control:checked~label.sk-toggleable__label {background-color: #d4ebff;}#sk-container-id-6 input.sk-hidden--visually {border: 0;clip: rect(1px 1px 1px 1px);clip: rect(1px, 1px, 1px, 1px);height: 1px;margin: -1px;overflow: hidden;padding: 0;position: absolute;width: 1px;}#sk-container-id-6 div.sk-estimator {font-family: monospace;background-color: #f0f8ff;border: 1px dotted black;border-radius: 0.25em;box-sizing: border-box;margin-bottom: 0.5em;}#sk-container-id-6 div.sk-estimator:hover {background-color: #d4ebff;}#sk-container-id-6 div.sk-parallel-item::after {content: \"\";width: 100%;border-bottom: 1px solid gray;flex-grow: 1;}#sk-container-id-6 div.sk-label:hover label.sk-toggleable__label {background-color: #d4ebff;}#sk-container-id-6 div.sk-serial::before {content: \"\";position: absolute;border-left: 1px solid gray;box-sizing: border-box;top: 0;bottom: 0;left: 50%;z-index: 0;}#sk-container-id-6 div.sk-serial {display: flex;flex-direction: column;align-items: center;background-color: white;padding-right: 0.2em;padding-left: 0.2em;position: relative;}#sk-container-id-6 div.sk-item {position: relative;z-index: 1;}#sk-container-id-6 div.sk-parallel {display: flex;align-items: stretch;justify-content: center;background-color: white;position: relative;}#sk-container-id-6 div.sk-item::before, #sk-container-id-6 div.sk-parallel-item::before {content: \"\";position: absolute;border-left: 1px solid gray;box-sizing: border-box;top: 0;bottom: 0;left: 50%;z-index: -1;}#sk-container-id-6 div.sk-parallel-item {display: flex;flex-direction: column;z-index: 1;position: relative;background-color: white;}#sk-container-id-6 div.sk-parallel-item:first-child::after {align-self: flex-end;width: 50%;}#sk-container-id-6 div.sk-parallel-item:last-child::after {align-self: flex-start;width: 50%;}#sk-container-id-6 div.sk-parallel-item:only-child::after {width: 0;}#sk-container-id-6 div.sk-dashed-wrapped {border: 1px dashed gray;margin: 0 0.4em 0.5em 0.4em;box-sizing: border-box;padding-bottom: 0.4em;background-color: white;}#sk-container-id-6 div.sk-label label {font-family: monospace;font-weight: bold;display: inline-block;line-height: 1.2em;}#sk-container-id-6 div.sk-label-container {text-align: center;}#sk-container-id-6 div.sk-container {/* jupyter's `normalize.less` sets `[hidden] { display: none; }` but bootstrap.min.css set `[hidden] { display: none !important; }` so we also need the `!important` here to be able to override the default hidden behavior on the sphinx rendered scikit-learn.org. See: https://github.com/scikit-learn/scikit-learn/issues/21755 */display: inline-block !important;position: relative;}#sk-container-id-6 div.sk-text-repr-fallback {display: none;}</style><div id=\"sk-container-id-6\" class=\"sk-top-container\"><div class=\"sk-text-repr-fallback\"><pre>Pipeline(steps=[(&#x27;linearregression&#x27;, LinearRegression())])</pre><b>In a Jupyter environment, please rerun this cell to show the HTML representation or trust the notebook. <br />On GitHub, the HTML representation is unable to render, please try loading this page with nbviewer.org.</b></div><div class=\"sk-container\" hidden><div class=\"sk-item sk-dashed-wrapped\"><div class=\"sk-label-container\"><div class=\"sk-label sk-toggleable\"><input class=\"sk-toggleable__control sk-hidden--visually\" id=\"sk-estimator-id-11\" type=\"checkbox\" ><label for=\"sk-estimator-id-11\" class=\"sk-toggleable__label sk-toggleable__label-arrow\">Pipeline</label><div class=\"sk-toggleable__content\"><pre>Pipeline(steps=[(&#x27;linearregression&#x27;, LinearRegression())])</pre></div></div></div><div class=\"sk-serial\"><div class=\"sk-item\"><div class=\"sk-estimator sk-toggleable\"><input class=\"sk-toggleable__control sk-hidden--visually\" id=\"sk-estimator-id-12\" type=\"checkbox\" ><label for=\"sk-estimator-id-12\" class=\"sk-toggleable__label sk-toggleable__label-arrow\">LinearRegression</label><div class=\"sk-toggleable__content\"><pre>LinearRegression()</pre></div></div></div></div></div></div></div>"
      ],
      "text/plain": [
       "Pipeline(steps=[('linearregression', LinearRegression())])"
      ]
     },
     "execution_count": 48,
     "metadata": {},
     "output_type": "execute_result"
    }
   ],
   "source": [
    "model = pipeline_workflow.fit(X,y)\n",
    "model.fit(X,y)"
   ]
  },
  {
   "cell_type": "code",
   "execution_count": 49,
   "id": "60824f6a",
   "metadata": {
    "slideshow": {
     "slide_type": "subslide"
    }
   },
   "outputs": [
    {
     "data": {
      "text/plain": [
       "array([0.87160894, 0.43076883, 3.2339119 , ..., 5.2727369 , 5.58047574,\n",
       "       2.97618937])"
      ]
     },
     "execution_count": 49,
     "metadata": {},
     "output_type": "execute_result"
    }
   ],
   "source": [
    "pipeline_workflow.predict(X_test)"
   ]
  },
  {
   "cell_type": "markdown",
   "id": "8a1fdc69",
   "metadata": {
    "slideshow": {
     "slide_type": "slide"
    }
   },
   "source": [
    "#### CREATION DE L'API : TRANSFERT VIA VSCODE EN FICHIER .PY"
   ]
  },
  {
   "cell_type": "code",
   "execution_count": 50,
   "id": "f135aeae",
   "metadata": {
    "slideshow": {
     "slide_type": "subslide"
    }
   },
   "outputs": [
    {
     "data": {
      "text/plain": [
       "total_air            87.804083\n",
       "indoor_pollution     50.481504\n",
       "outdoor_particule    35.114982\n",
       "dtype: float64"
      ]
     },
     "execution_count": 50,
     "metadata": {},
     "output_type": "execute_result"
    }
   ],
   "source": [
    "X.mean()"
   ]
  },
  {
   "cell_type": "code",
   "execution_count": 56,
   "id": "9b00ed1b",
   "metadata": {
    "slideshow": {
     "slide_type": "subslide"
    }
   },
   "outputs": [],
   "source": [
    "from fastapi import FastAPI\n",
    "import pickle\n",
    "from typing import Union\n",
    "import numpy as np\n",
    "\n",
    "app = FastAPI()\n",
    "\n",
    "\n",
    "@app.get(\"/\")\n",
    "async def root(total_air: Union[float, None] = 87.8,\n",
    "               indoor_pollution: Union[float, None] = 50.48,\n",
    "               outdoor_particule: Union[float, None] = 35.11):\n",
    "    \n",
    "    x_user = get_user_df(total_air, indoor_pollution , outdoor_particule)\n",
    "    pickle_model = pickle.load(open(\"pipeline_air_pollution.pkl\",\"rb\"))  \n",
    "    pickle_predict = pickle_model.predict(x_user)\n",
    "    return {'predict': f\"{pickle_predict[0]}\"}\n",
    "\n",
    "\n",
    "def get_user_df(total_air, indoor_pollution , outdoor_particule):\n",
    "    x_user = pd.DataFrame({ \n",
    "    \"total_air\" : [float(total_air)],\n",
    "    \"indoor_pollution\" : [float(indoor_pollution)],\n",
    "    \"outdoor_particule\" : [float(outdoor_particule)]})\n",
    "    return x_user"
   ]
  },
  {
   "cell_type": "code",
   "execution_count": 57,
   "id": "caf5e605",
   "metadata": {
    "slideshow": {
     "slide_type": "subslide"
    }
   },
   "outputs": [],
   "source": [
    "pickle.dump(model, open(\"pipeline_air_pollution.pkl\", \"wb\"))\n",
    "pickle_model = pickle.load(open(\"pipeline_air_pollution.pkl\",\"rb\"))"
   ]
  },
  {
   "cell_type": "code",
   "execution_count": 60,
   "id": "e0cc9f62",
   "metadata": {
    "slideshow": {
     "slide_type": "subslide"
    }
   },
   "outputs": [],
   "source": [
    "def get_user_df(total_air, indoor_pollution , outdoor_particule):\n",
    "    x_user = pd.DataFrame({ \n",
    "    \"total_air\" : [float(total_air)],\n",
    "    \"indoor_pollution\" : [float(indoor_pollution)],\n",
    "    \"outdoor_particule\" : [float(outdoor_particule)]})\n",
    "    return x_user"
   ]
  },
  {
   "cell_type": "markdown",
   "id": "1fdf45c5",
   "metadata": {
    "slideshow": {
     "slide_type": "slide"
    }
   },
   "source": [
    "#### TEST DU MODEL DE PREDICTION"
   ]
  },
  {
   "cell_type": "code",
   "execution_count": 61,
   "id": "0f36b6b5",
   "metadata": {
    "slideshow": {
     "slide_type": "subslide"
    }
   },
   "outputs": [
    {
     "data": {
      "text/plain": [
       "array([294.67520718])"
      ]
     },
     "execution_count": 61,
     "metadata": {},
     "output_type": "execute_result"
    }
   ],
   "source": [
    "pickle_model.predict(get_user_df(250.47, 44.3, 30.44))"
   ]
  },
  {
   "cell_type": "code",
   "execution_count": 63,
   "id": "4f556d07",
   "metadata": {
    "slideshow": {
     "slide_type": "subslide"
    }
   },
   "outputs": [
    {
     "data": {
      "text/html": [
       "<div>\n",
       "<style scoped>\n",
       "    .dataframe tbody tr th:only-of-type {\n",
       "        vertical-align: middle;\n",
       "    }\n",
       "\n",
       "    .dataframe tbody tr th {\n",
       "        vertical-align: top;\n",
       "    }\n",
       "\n",
       "    .dataframe thead th {\n",
       "        text-align: right;\n",
       "    }\n",
       "</style>\n",
       "<table border=\"1\" class=\"dataframe\">\n",
       "  <thead>\n",
       "    <tr style=\"text-align: right;\">\n",
       "      <th></th>\n",
       "      <th>total_air</th>\n",
       "      <th>indoor_pollution</th>\n",
       "      <th>outdoor_particule</th>\n",
       "    </tr>\n",
       "  </thead>\n",
       "  <tbody>\n",
       "    <tr>\n",
       "      <th>0</th>\n",
       "      <td>19.58</td>\n",
       "      <td>1.6</td>\n",
       "      <td>17.6</td>\n",
       "    </tr>\n",
       "  </tbody>\n",
       "</table>\n",
       "</div>"
      ],
      "text/plain": [
       "   total_air  indoor_pollution  outdoor_particule\n",
       "0      19.58               1.6               17.6"
      ]
     },
     "execution_count": 63,
     "metadata": {},
     "output_type": "execute_result"
    }
   ],
   "source": [
    "get_user_df(19.58, 1.60, 17.6)"
   ]
  },
  {
   "cell_type": "code",
   "execution_count": 64,
   "id": "dcad0173",
   "metadata": {
    "slideshow": {
     "slide_type": "notes"
    }
   },
   "outputs": [],
   "source": [
    "y_pred = pipeline_workflow.predict(X_test)"
   ]
  },
  {
   "cell_type": "code",
   "execution_count": 65,
   "id": "0952748e",
   "metadata": {
    "slideshow": {
     "slide_type": "notes"
    }
   },
   "outputs": [
    {
     "data": {
      "text/plain": [
       "array([0.87160894, 0.43076883, 3.2339119 , ..., 5.2727369 , 5.58047574,\n",
       "       2.97618937])"
      ]
     },
     "execution_count": 65,
     "metadata": {},
     "output_type": "execute_result"
    }
   ],
   "source": [
    "y_pred"
   ]
  },
  {
   "cell_type": "code",
   "execution_count": null,
   "id": "5f8f4dae",
   "metadata": {},
   "outputs": [],
   "source": []
  }
 ],
 "metadata": {
  "celltoolbar": "Slideshow",
  "kernelspec": {
   "display_name": "Python 3 (ipykernel)",
   "language": "python",
   "name": "python3"
  },
  "language_info": {
   "codemirror_mode": {
    "name": "ipython",
    "version": 3
   },
   "file_extension": ".py",
   "mimetype": "text/x-python",
   "name": "python",
   "nbconvert_exporter": "python",
   "pygments_lexer": "ipython3",
   "version": "3.9.12"
  },
  "toc": {
   "base_numbering": 1,
   "nav_menu": {},
   "number_sections": true,
   "sideBar": true,
   "skip_h1_title": false,
   "title_cell": "Table of Contents",
   "title_sidebar": "Contents",
   "toc_cell": false,
   "toc_position": {},
   "toc_section_display": true,
   "toc_window_display": false
  }
 },
 "nbformat": 4,
 "nbformat_minor": 5
}
